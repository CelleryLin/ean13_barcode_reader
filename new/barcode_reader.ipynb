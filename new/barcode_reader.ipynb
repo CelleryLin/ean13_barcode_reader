{
 "cells": [
  {
   "cell_type": "code",
   "execution_count": 19,
   "metadata": {},
   "outputs": [],
   "source": [
    "# import cv2\n",
    "# import matplotlib.pyplot as plt\n",
    "# import numpy as np\n",
    "# import utils.image_proc as ip\n",
    "# import utils.function as f\n",
    "# from utils.decode import EAN13DECODER\n",
    "# from utils.decode import DECODEDONE\n",
    "\n",
    "# %load_ext autoreload\n",
    "# %autoreload 2"
   ]
  },
  {
   "cell_type": "code",
   "execution_count": 20,
   "metadata": {},
   "outputs": [],
   "source": [
    "# # img = cv2.imread(\"../img/barcode13.jpg\")\n",
    "# img = cv2.imread(\"./test2.bmp\")\n",
    "# # img = cv2.resize(img, (300, 400))\n",
    "# img = cv2.cvtColor(img, cv2.COLOR_BGR2GRAY)\n",
    "# img = ip.normalize(img)\n",
    "# img = ip.contrast(img, 0.8)\n",
    "# img = ip.gaussian_blur(img)\n",
    "\n",
    "# mean,std = cv2.meanStdDev(img)\n",
    "# # raise up the value to keep more black pixels\n",
    "# th = 0.5\n",
    "# img = ip.binarize(img, th)\n",
    "# img = 1 - img\n",
    "# line_num = 20\n",
    "# angle = 90\n",
    "# # 0<=angle<=180\n",
    "# x,y,lines = f.apply_scanline(img, line_num, angle, resolution=1000)\n",
    "\n",
    "# plt.imshow(img, cmap=\"gray\")\n",
    "# plt.scatter(x, y, c=\"r\", s=2)\n",
    "\n",
    "\n",
    "# for x_, y_ in zip(x, y):\n",
    "#     xx = np.linspace(0, img.shape[1], 100)\n",
    "#     yy = y_ + (xx - x_) * np.tan((angle-90) / 180 * np.pi)\n",
    "#     plt.plot(xx, yy, c=\"r\")\n",
    "\n",
    "# plt.show()\n",
    "# np.save(\"lines.npy\", lines)"
   ]
  },
  {
   "cell_type": "code",
   "execution_count": 21,
   "metadata": {},
   "outputs": [],
   "source": [
    "# import seaborn as sns\n",
    "# import pandas as pd\n",
    "\n",
    "# barcodes = []\n",
    "# with open('./barcodes.txt', 'r') as f:\n",
    "#     for line in f:\n",
    "#         barcodes.append(line.strip())\n",
    "\n",
    "# all_interv = []\n",
    "# for barcode in barcodes:\n",
    "#     interv_count = np.zeros(6)\n",
    "#     barcode_nplist = np.array([int(i) for i in barcode])\n",
    "#     decoder = EAN13DECODER()\n",
    "#     intervals, _ = decoder.get_intervals(barcode=barcode_nplist)\n",
    "\n",
    "#     for i in intervals:\n",
    "#         interv_count[i] += 1\n",
    "\n",
    "#     for i in range(6):\n",
    "#         all_interv.append({\n",
    "#             \"freq\": i,\n",
    "#             \"count\": interv_count[i],\n",
    "#         })\n",
    "\n",
    "# all_interv = pd.DataFrame(all_interv)\n",
    "# sns.set_style(\"whitegrid\")\n",
    "# sns.barplot(x=\"freq\", y=\"count\", data=all_interv)\n",
    "\n",
    "# plt.xticks(np.arange(6))\n",
    "# plt.xlim(0.5, 4.5)\n"
   ]
  },
  {
   "cell_type": "markdown",
   "metadata": {},
   "source": [
    "![](./簡報1.png)\n"
   ]
  },
  {
   "cell_type": "code",
   "execution_count": 2,
   "metadata": {},
   "outputs": [],
   "source": [
    "from utils.slover import solver\n",
    "\n",
    "%load_ext autoreload\n",
    "%autoreload 2"
   ]
  },
  {
   "cell_type": "code",
   "execution_count": 31,
   "metadata": {},
   "outputs": [
    {
     "name": "stderr",
     "output_type": "stream",
     "text": [
      "  0%|          | 0/6 [00:00<?, ?it/s]"
     ]
    },
    {
     "name": "stderr",
     "output_type": "stream",
     "text": [
      "100%|██████████| 6/6 [00:11<00:00,  1.84s/it]"
     ]
    },
    {
     "name": "stdout",
     "output_type": "stream",
     "text": [
      "accuracy: 0.8333333333333334\n",
      "avg time (sec): 1.8434115250905354\n",
      "\n",
      "test1.bmp : 9780137050512\n",
      "barcode03.jpg : fail\n",
      "test2.bmp : 4710777110166\n",
      "barcode13.jpg : 8002206000015\n",
      "barcode17.jpg : 3014260257927\n",
      "test8.jpg : 4902030187590\n"
     ]
    },
    {
     "name": "stderr",
     "output_type": "stream",
     "text": [
      "\n"
     ]
    }
   ],
   "source": [
    "line_num = 100\n",
    "# 0<=angle<=180\n",
    "angles = [ 90, 60, 120, 30, 150, 0, 180]\n",
    "# angles = [90]\n",
    "# tilts = [None, 3, -3]\n",
    "tilts = [None]\n",
    "torelances = [2, 3, 4, 5, 1]\n",
    "# torelances = [5]\n",
    "\n",
    "\n",
    "acc,duration,all_codes,all_imgs = solver('./barcodes', line_num=line_num, angles=angles, tilts=tilts, torelances=torelances, show_res=False, show_drop=False)\n",
    "print('accuracy:', acc)\n",
    "print('avg time (sec):', duration, end='\\n\\n')\n",
    "for i in range(len(all_codes)):\n",
    "    print(all_imgs[i],':', all_codes[i])"
   ]
  }
 ],
 "metadata": {
  "kernelspec": {
   "display_name": "myenv",
   "language": "python",
   "name": "python3"
  },
  "language_info": {
   "codemirror_mode": {
    "name": "ipython",
    "version": 3
   },
   "file_extension": ".py",
   "mimetype": "text/x-python",
   "name": "python",
   "nbconvert_exporter": "python",
   "pygments_lexer": "ipython3",
   "version": "3.10.12"
  },
  "orig_nbformat": 4
 },
 "nbformat": 4,
 "nbformat_minor": 2
}
